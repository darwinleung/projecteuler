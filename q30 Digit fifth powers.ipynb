{
 "cells": [
  {
   "cell_type": "markdown",
   "metadata": {},
   "source": [
    "Surprisingly there are only three numbers that can be written as the sum of fourth powers of their digits:\n",
    "\n",
    "1634 = 14 + 64 + 34 + 44\n",
    "8208 = 84 + 24 + 04 + 84\n",
    "9474 = 94 + 44 + 74 + 44\n",
    "As 1 = 14 is not a sum it is not included.\n",
    "\n",
    "The sum of these numbers is 1634 + 8208 + 9474 = 19316.\n",
    "\n",
    "Find the sum of all the numbers that can be written as the sum of fifth powers of their digits."
   ]
  },
  {
   "cell_type": "code",
   "execution_count": 15,
   "metadata": {
    "collapsed": false
   },
   "outputs": [],
   "source": [
    "def find_5thpower(k):\n",
    "    sum = 0\n",
    "    for i in str(k):\n",
    "        sum += int(i)**5\n",
    "    return sum"
   ]
  },
  {
   "cell_type": "code",
   "execution_count": 25,
   "metadata": {
    "collapsed": false
   },
   "outputs": [
    {
     "name": "stdout",
     "output_type": "stream",
     "text": [
      "1\n",
      "4150\n",
      "4151\n",
      "54748\n",
      "92727\n",
      "93084\n",
      "194979\n"
     ]
    }
   ],
   "source": [
    "for i in range(1,354294):\n",
    "    if find_5thpower(i) == i:\n",
    "        print i"
   ]
  },
  {
   "cell_type": "code",
   "execution_count": 27,
   "metadata": {
    "collapsed": false
   },
   "outputs": [
    {
     "data": {
      "text/plain": [
       "[(0, 0),\n",
       " (1, 59049),\n",
       " (2, 118098),\n",
       " (3, 177147),\n",
       " (4, 236196),\n",
       " (5, 295245),\n",
       " (6, 354294),\n",
       " (7, 413343),\n",
       " (8, 472392),\n",
       " (9, 531441),\n",
       " (10, 590490),\n",
       " (11, 649539),\n",
       " (12, 708588),\n",
       " (13, 767637),\n",
       " (14, 826686),\n",
       " (15, 885735),\n",
       " (16, 944784),\n",
       " (17, 1003833),\n",
       " (18, 1062882),\n",
       " (19, 1121931)]"
      ]
     },
     "execution_count": 27,
     "metadata": {},
     "output_type": "execute_result"
    }
   ],
   "source": [
    "# To find out maximum bound:\n",
    "# we can check the maximum possible sum of n-digit number by 9^5 * n, from the below,\n",
    "# we know the sum of digit ^ 5 of a 7 digit number will never be large enough to reach the value of the 7 digit number\n",
    "# hence we can limit our upper bound to 6 digit (or 354294 to be exact)\n",
    "[(i,9**5*i) for i in range(0,20)]"
   ]
  },
  {
   "cell_type": "code",
   "execution_count": null,
   "metadata": {
    "collapsed": true
   },
   "outputs": [],
   "source": []
  }
 ],
 "metadata": {
  "kernelspec": {
   "display_name": "Python [Root]",
   "language": "python",
   "name": "Python [Root]"
  },
  "language_info": {
   "codemirror_mode": {
    "name": "ipython",
    "version": 2
   },
   "file_extension": ".py",
   "mimetype": "text/x-python",
   "name": "python",
   "nbconvert_exporter": "python",
   "pygments_lexer": "ipython2",
   "version": "2.7.12"
  }
 },
 "nbformat": 4,
 "nbformat_minor": 2
}
