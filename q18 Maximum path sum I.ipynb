{
 "cells": [
  {
   "cell_type": "code",
   "execution_count": 46,
   "metadata": {
    "collapsed": false
   },
   "outputs": [
    {
     "name": "stdout",
     "output_type": "stream",
     "text": [
      "[[3], [7, 4], [2, 4, 6], [8, 5, 9, 3]]\n"
     ]
    }
   ],
   "source": [
    "tri = [[3],[7, 4],[2, 4, 6],[8, 5, 9, 3]]\n",
    "print tri"
   ]
  },
  {
   "cell_type": "code",
   "execution_count": 36,
   "metadata": {
    "collapsed": false
   },
   "outputs": [
    {
     "name": "stdout",
     "output_type": "stream",
     "text": [
      "(20, 17, 19, 23, 16, 20, 22, 16)\n"
     ]
    }
   ],
   "source": [
    "print(\\\n",
    "sum([tri[0][0], tri[1][0], tri[2][0], tri[3][0]]),\\\n",
    "sum([tri[0][0], tri[1][0], tri[2][0], tri[3][1]]),\\\n",
    "sum([tri[0][0], tri[1][0], tri[2][1], tri[3][1]]),\\\n",
    "sum([tri[0][0], tri[1][0], tri[2][1], tri[3][2]]),\\\n",
    "sum([tri[0][0], tri[1][1], tri[2][1], tri[3][1]]),\\\n",
    "sum([tri[0][0], tri[1][1], tri[2][1], tri[3][2]]),\\\n",
    "sum([tri[0][0], tri[1][1], tri[2][2], tri[3][2]]),\\\n",
    "sum([tri[0][0], tri[1][1], tri[2][2], tri[3][3]]))"
   ]
  },
  {
   "cell_type": "code",
   "execution_count": 48,
   "metadata": {
    "collapsed": false
   },
   "outputs": [
    {
     "data": {
      "text/plain": [
       "[(0, 0),\n",
       " (1, 0),\n",
       " (1, 1),\n",
       " (2, 0),\n",
       " (2, 1),\n",
       " (2, 2),\n",
       " (3, 0),\n",
       " (3, 1),\n",
       " (3, 2),\n",
       " (3, 3)]"
      ]
     },
     "execution_count": 48,
     "metadata": {},
     "output_type": "execute_result"
    }
   ],
   "source": [
    "lst_nodes=[]\n",
    "for i in range(0,4):\n",
    "    for j in range(0,i+1):\n",
    "        lst_nodes.append((i,j))\n",
    "lst_nodes"
   ]
  },
  {
   "cell_type": "code",
   "execution_count": 168,
   "metadata": {
    "collapsed": false
   },
   "outputs": [],
   "source": [
    "with open('q18_test.txt') as f:\n",
    "    lines = f.read().splitlines()\n",
    "tri = [map(int,j) for j in [i.split() for i in lines]]"
   ]
  },
  {
   "cell_type": "code",
   "execution_count": 169,
   "metadata": {
    "collapsed": false
   },
   "outputs": [
    {
     "data": {
      "text/plain": [
       "[[3], [7, 4], [2, 4, 6], [8, 5, 9, 3]]"
      ]
     },
     "execution_count": 169,
     "metadata": {},
     "output_type": "execute_result"
    }
   ],
   "source": [
    "tri"
   ]
  },
  {
   "cell_type": "code",
   "execution_count": 166,
   "metadata": {
    "collapsed": false
   },
   "outputs": [],
   "source": [
    "def find_max(tri): #input 2D list of triangle\n",
    "    if len(tri)==1:\n",
    "        return tri[0][0]\n",
    "    else:\n",
    "        find_max(tri[:-2]+[[x + y for x, y in zip(reducelst(tri[-1]), tri[-2])]])"
   ]
  },
  {
   "cell_type": "code",
   "execution_count": 165,
   "metadata": {
    "collapsed": false
   },
   "outputs": [
    {
     "data": {
      "text/plain": [
       "[[23]]"
      ]
     },
     "execution_count": 165,
     "metadata": {},
     "output_type": "execute_result"
    }
   ],
   "source": [
    "tri[:-2]+[[x + y for x, y in zip(reducelst(tri[-1]), tri[-2])]]"
   ]
  },
  {
   "cell_type": "code",
   "execution_count": 146,
   "metadata": {
    "collapsed": false
   },
   "outputs": [
    {
     "data": {
      "text/plain": [
       "[3]"
      ]
     },
     "execution_count": 146,
     "metadata": {},
     "output_type": "execute_result"
    }
   ],
   "source": [
    "def reducelst(lst1):\n",
    "    lst2=[]\n",
    "    if len(lst1)<2:\n",
    "        return lst1\n",
    "    for i in range(len(lst1)-1):\n",
    "        lst2.append(max(lst1[i],lst1[i+1]))\n",
    "    return lst2\n",
    "reducelst([3])"
   ]
  },
  {
   "cell_type": "code",
   "execution_count": 164,
   "metadata": {
    "collapsed": false
   },
   "outputs": [],
   "source": [
    "tri = [[3], [20, 19]]"
   ]
  },
  {
   "cell_type": "code",
   "execution_count": 170,
   "metadata": {
    "collapsed": false
   },
   "outputs": [],
   "source": [
    "find_max(tri)"
   ]
  },
  {
   "cell_type": "markdown",
   "metadata": {},
   "source": [
    "https://stackoverflow.com/questions/8002252/euler-project-18-approach"
   ]
  }
 ],
 "metadata": {
  "kernelspec": {
   "display_name": "Python [Root]",
   "language": "python",
   "name": "Python [Root]"
  },
  "language_info": {
   "codemirror_mode": {
    "name": "ipython",
    "version": 2
   },
   "file_extension": ".py",
   "mimetype": "text/x-python",
   "name": "python",
   "nbconvert_exporter": "python",
   "pygments_lexer": "ipython2",
   "version": "2.7.12"
  }
 },
 "nbformat": 4,
 "nbformat_minor": 2
}
