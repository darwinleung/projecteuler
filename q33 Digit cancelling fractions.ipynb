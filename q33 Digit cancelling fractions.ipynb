{
 "cells": [
  {
   "cell_type": "markdown",
   "metadata": {},
   "source": [
    "The fraction 49/98 is a curious fraction, as an inexperienced mathematician in attempting to simplify it may incorrectly believe that 49/98 = 4/8, which is correct, is obtained by cancelling the 9s.\n",
    "\n",
    "We shall consider fractions like, 30/50 = 3/5, to be trivial examples.\n",
    "\n",
    "There are exactly four non-trivial examples of this type of fraction, less than one in value, and containing two digits in the numerator and denominator.\n",
    "\n",
    "If the product of these four fractions is given in its lowest common terms, find the value of the denominator."
   ]
  },
  {
   "cell_type": "code",
   "execution_count": 48,
   "metadata": {
    "collapsed": false
   },
   "outputs": [
    {
     "name": "stdout",
     "output_type": "stream",
     "text": [
      "16 64\n",
      "19 95\n",
      "24 32\n",
      "26 65\n",
      "48 64\n",
      "49 98\n"
     ]
    }
   ],
   "source": [
    "for i in range(11,99):\n",
    "    for j in range(i,99):\n",
    "        num_digits = [i/10, i%10]\n",
    "        denom_digits = [j/10, j%10]\n",
    "        if i%10 == j/10:\n",
    "        unique = sorted(list(set(num_digits).symmetric_difference(set(denom_digits))))\n",
    "        if i%10 != 0 and i/10 != i%10 and len(unique) == 2 and (i*1.000/j == unique[0]*1.0/unique[1]):\n",
    "            print i,j\n",
    "        \n"
   ]
  },
  {
   "cell_type": "code",
   "execution_count": 42,
   "metadata": {
    "collapsed": false
   },
   "outputs": [
    {
     "name": "stdout",
     "output_type": "stream",
     "text": [
      "[3, 4]\n"
     ]
    },
    {
     "data": {
      "text/plain": [
       "0.0"
      ]
     },
     "execution_count": 42,
     "metadata": {},
     "output_type": "execute_result"
    }
   ],
   "source": [
    "i = 33\n",
    "j = 44\n",
    "num_digits = [i/10, i%10]\n",
    "denom_digits = [j/10, j%10]\n",
    "unique = sorted(list(set(num_digits).symmetric_difference(set(denom_digits))))\n",
    "print unique\n",
    "i/j*1.0"
   ]
  },
  {
   "cell_type": "code",
   "execution_count": 57,
   "metadata": {
    "collapsed": false
   },
   "outputs": [
    {
     "name": "stdout",
     "output_type": "stream",
     "text": [
      "16 64\n",
      "19 95\n",
      "26 65\n",
      "49 98\n"
     ]
    }
   ],
   "source": [
    "for i in range(11,99):\n",
    "    for j in range(i,99):\n",
    "        if i%10 != 0 and j%10 != 0 and i/10 != i%10 and i%10 == j/10 and (i*1.000/j == (i/10)*1.000/(j%10)):\n",
    "            print i,j"
   ]
  },
  {
   "cell_type": "code",
   "execution_count": 60,
   "metadata": {
    "collapsed": false
   },
   "outputs": [
    {
     "data": {
      "text/plain": [
       "387296"
      ]
     },
     "execution_count": 60,
     "metadata": {},
     "output_type": "execute_result"
    }
   ],
   "source": [
    "16*19*26*49"
   ]
  },
  {
   "cell_type": "code",
   "execution_count": 61,
   "metadata": {
    "collapsed": false
   },
   "outputs": [
    {
     "data": {
      "text/plain": [
       "38729600"
      ]
     },
     "execution_count": 61,
     "metadata": {},
     "output_type": "execute_result"
    }
   ],
   "source": [
    "64*95*65*98"
   ]
  }
 ],
 "metadata": {
  "anaconda-cloud": {},
  "kernelspec": {
   "display_name": "Python [Root]",
   "language": "python",
   "name": "Python [Root]"
  },
  "language_info": {
   "codemirror_mode": {
    "name": "ipython",
    "version": 2
   },
   "file_extension": ".py",
   "mimetype": "text/x-python",
   "name": "python",
   "nbconvert_exporter": "python",
   "pygments_lexer": "ipython2",
   "version": "2.7.12"
  }
 },
 "nbformat": 4,
 "nbformat_minor": 2
}
