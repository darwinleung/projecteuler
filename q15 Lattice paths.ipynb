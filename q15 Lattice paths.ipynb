{
 "cells": [
  {
   "cell_type": "markdown",
   "metadata": {
    "collapsed": true
   },
   "source": [
    "Starting in the top left corner of a 2×2 grid, and only being able to move to the right and down, there are exactly 6 routes to the bottom right corner.\n",
    "\n",
    "How many such routes are there through a 20×20 grid?"
   ]
  },
  {
   "cell_type": "markdown",
   "metadata": {
    "collapsed": false
   },
   "source": [
    "I solved this by combinatorics, the answer is 40C20. \n",
    "For a 2x2 squares, there are fixed 4 steps to get to the opposite corner. And 2 of them has to be right, another 2 has to be down. And it can be any combinations of the 4 steps, so the answer is 4 choose 2 = 2. 4 choose 2 is the number of combinations you can get when you pick 2 items out of 4 items. \n",
    "\n",
    "3x3 squares, there are 6 steps with 3 R or 3 D, hence 6C3. Similarly, the answer for 20x20 would be 40C20.\n",
    "\n",
    "Read more: https://betterexplained.com/articles/navigate-a-grid-using-combinations-and-permutations/"
   ]
  }
 ],
 "metadata": {
  "anaconda-cloud": {},
  "kernelspec": {
   "display_name": "Python [Root]",
   "language": "python",
   "name": "Python [Root]"
  },
  "language_info": {
   "codemirror_mode": {
    "name": "ipython",
    "version": 2
   },
   "file_extension": ".py",
   "mimetype": "text/x-python",
   "name": "python",
   "nbconvert_exporter": "python",
   "pygments_lexer": "ipython2",
   "version": "2.7.12"
  }
 },
 "nbformat": 4,
 "nbformat_minor": 2
}
