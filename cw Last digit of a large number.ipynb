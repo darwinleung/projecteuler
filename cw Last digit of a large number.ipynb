{
 "cells": [
  {
   "cell_type": "code",
   "execution_count": null,
   "metadata": {
    "collapsed": true
   },
   "outputs": [],
   "source": [
    "Define a function\n",
    "\n",
    "def last_digit(n1, n2):\n",
    "  return\n",
    "that takes in two numbers a and b and returns the last decimal digit of a^b. Note that a and b may be very large!\n",
    "\n",
    "For example, the last decimal digit of 9^7 is 9, since 9^7 = 4782969. The last decimal digit of (2^200)^(2^300), which has over 10^92 decimal digits, is 6.\n",
    "\n",
    "The inputs to your function will always be non-negative integers.\n",
    "\n",
    "Examples\n",
    "last_digit(4, 1)                # returns 4\n",
    "last_digit(4, 2)                # returns 6\n",
    "last_digit(9, 7)                # returns 9\n",
    "last_digit(10, 10 ** 10)        # returns 0\n",
    "last_digit(2 ** 200, 2 ** 300)  # returns 6"
   ]
  },
  {
   "cell_type": "code",
   "execution_count": 29,
   "metadata": {
    "collapsed": false
   },
   "outputs": [],
   "source": [
    "pattern_dict = {1:[1,1,1,1], 2:[6,2,4,8], 3: [1,3,9,7], 4: [6,4,6,4], 5: [5,5,5,5], 6: [6,6,6,6], 7: [1,7,9,3], 8:[6,8,4,2], 9:[1,9,1,9], 0: [0,0,0,0]}\n"
   ]
  },
  {
   "cell_type": "code",
   "execution_count": 82,
   "metadata": {
    "collapsed": true
   },
   "outputs": [],
   "source": [
    "def last_digit(a,b):\n",
    "    return 1 if b == 0 else pattern_dict[a%10][b%4]"
   ]
  },
  {
   "cell_type": "code",
   "execution_count": 84,
   "metadata": {
    "collapsed": false
   },
   "outputs": [
    {
     "data": {
      "text/plain": [
       "6"
      ]
     },
     "execution_count": 84,
     "metadata": {},
     "output_type": "execute_result"
    }
   ],
   "source": [
    "last_digit(2,2016)"
   ]
  },
  {
   "cell_type": "code",
   "execution_count": 77,
   "metadata": {
    "collapsed": true
   },
   "outputs": [],
   "source": [
    "def gen_pattern_dict():\n",
    "    pattern_dict = {}\n",
    "    for i in range(0,10):\n",
    "        pattern_dict[i] = []\n",
    "        for j in [4]+range(1,4):\n",
    "            pattern_dict[i].append(i**j%10)\n",
    "    return pattern_dict"
   ]
  },
  {
   "cell_type": "code",
   "execution_count": 449,
   "metadata": {
    "collapsed": true
   },
   "outputs": [],
   "source": [
    "def gen_pattern_dict2():\n",
    "    pattern_dict = {}\n",
    "    for i in range(0,102):\n",
    "        pattern_dict[i] = []\n",
    "        for j in range(0,102):\n",
    "            if i**j%100 == 0 and i**j >= 100: \n",
    "                pattern_dict[i].append(100)\n",
    "            elif i**j%100 == 1 and i**j>=101:\n",
    "                pattern_dict[i].append(101)\n",
    "            else:\n",
    "                pattern_dict[i].append(i**j%100)\n",
    "    return pattern_dict\n",
    "pattern_dict2 = gen_pattern_dict2()"
   ]
  },
  {
   "cell_type": "code",
   "execution_count": 451,
   "metadata": {
    "collapsed": false
   },
   "outputs": [
    {
     "data": {
      "text/plain": [
       "[1,\n",
       " 101,\n",
       " 101,\n",
       " 101,\n",
       " 101,\n",
       " 101,\n",
       " 101,\n",
       " 101,\n",
       " 101,\n",
       " 101,\n",
       " 101,\n",
       " 101,\n",
       " 101,\n",
       " 101,\n",
       " 101,\n",
       " 101,\n",
       " 101,\n",
       " 101,\n",
       " 101,\n",
       " 101,\n",
       " 101,\n",
       " 101,\n",
       " 101,\n",
       " 101,\n",
       " 101,\n",
       " 101,\n",
       " 101,\n",
       " 101,\n",
       " 101,\n",
       " 101,\n",
       " 101,\n",
       " 101,\n",
       " 101,\n",
       " 101,\n",
       " 101,\n",
       " 101,\n",
       " 101,\n",
       " 101,\n",
       " 101,\n",
       " 101,\n",
       " 101,\n",
       " 101,\n",
       " 101,\n",
       " 101,\n",
       " 101,\n",
       " 101,\n",
       " 101,\n",
       " 101,\n",
       " 101,\n",
       " 101,\n",
       " 101,\n",
       " 101,\n",
       " 101,\n",
       " 101,\n",
       " 101,\n",
       " 101,\n",
       " 101,\n",
       " 101,\n",
       " 101,\n",
       " 101,\n",
       " 101,\n",
       " 101,\n",
       " 101,\n",
       " 101,\n",
       " 101,\n",
       " 101,\n",
       " 101,\n",
       " 101,\n",
       " 101,\n",
       " 101,\n",
       " 101,\n",
       " 101,\n",
       " 101,\n",
       " 101,\n",
       " 101,\n",
       " 101,\n",
       " 101,\n",
       " 101,\n",
       " 101,\n",
       " 101,\n",
       " 101,\n",
       " 101,\n",
       " 101,\n",
       " 101,\n",
       " 101,\n",
       " 101,\n",
       " 101,\n",
       " 101,\n",
       " 101,\n",
       " 101,\n",
       " 101,\n",
       " 101,\n",
       " 101,\n",
       " 101,\n",
       " 101,\n",
       " 101,\n",
       " 101,\n",
       " 101,\n",
       " 101,\n",
       " 101,\n",
       " 101,\n",
       " 101]"
      ]
     },
     "execution_count": 451,
     "metadata": {},
     "output_type": "execute_result"
    }
   ],
   "source": [
    "pattern_dict2[101]"
   ]
  },
  {
   "cell_type": "code",
   "execution_count": 409,
   "metadata": {
    "collapsed": false
   },
   "outputs": [
    {
     "data": {
      "text/plain": [
       "101"
      ]
     },
     "execution_count": 409,
     "metadata": {},
     "output_type": "execute_result"
    }
   ],
   "source": [
    "101**1"
   ]
  },
  {
   "cell_type": "code",
   "execution_count": 373,
   "metadata": {
    "collapsed": false
   },
   "outputs": [
    {
     "data": {
      "text/plain": [
       "2291886103031140062854502224217720370139739939867487621886988910544188220937533613882061977609578038364533594479361282022256201L"
      ]
     },
     "execution_count": 373,
     "metadata": {},
     "output_type": "execute_result"
    }
   ],
   "source": [
    "51**74"
   ]
  },
  {
   "cell_type": "code",
   "execution_count": 433,
   "metadata": {
    "collapsed": false
   },
   "outputs": [],
   "source": [
    "def last_digit2(a,b):\n",
    "    if b==0:\n",
    "        return 1\n",
    "    elif a%100==0 and a>=100 and b%100==0 and b>=100:\n",
    "        return pattern_dict2[100][100]\n",
    "    elif a%100==0 and a>=100:\n",
    "        return pattern_dict2[100][b%100]\n",
    "    elif b%100==0 and b>=100:\n",
    "        return pattern_dict2[a%100][100]\n",
    "    elif a==101:\n",
    "        return pattern_dict2[101][b%100]\n",
    "    elif b==101:\n",
    "        return pattern_dict2[a%100][101]\n",
    "    elif a==101 and b==101:\n",
    "        return pattern_dict2[101][101]\n",
    "    else:\n",
    "        return pattern_dict2[a%100][b%100]"
   ]
  },
  {
   "cell_type": "code",
   "execution_count": 395,
   "metadata": {
    "collapsed": false
   },
   "outputs": [],
   "source": [
    "def last_digit_lst(lst):\n",
    "    lst.reverse()\n",
    "    if lst == []:\n",
    "        return 1\n",
    "    else:\n",
    "        return reduce(lambda x,y: last_digit2(y,x), lst)%10"
   ]
  },
  {
   "cell_type": "code",
   "execution_count": 452,
   "metadata": {
    "collapsed": false
   },
   "outputs": [
    {
     "data": {
      "text/plain": [
       "6L"
      ]
     },
     "execution_count": 452,
     "metadata": {},
     "output_type": "execute_result"
    }
   ],
   "source": [
    "last_digit_lst([2,2,101,2])"
   ]
  },
  {
   "cell_type": "code",
   "execution_count": 448,
   "metadata": {
    "collapsed": false
   },
   "outputs": [
    {
     "data": {
      "text/plain": [
       "52L"
      ]
     },
     "execution_count": 448,
     "metadata": {},
     "output_type": "execute_result"
    }
   ],
   "source": [
    "last_digit2(2,101)"
   ]
  },
  {
   "cell_type": "code",
   "execution_count": null,
   "metadata": {
    "collapsed": true
   },
   "outputs": [],
   "source": [
    "For a given list [x1, x2, x3, ..., xn] compute the last (decimal) digit of x1 ^ (x2 ^ (x3 ^ (... ^ xn))).\n",
    "\n",
    "E. g.,\n",
    "\n",
    "last_digit([3, 4, 2]) == 1\n",
    "because 3 ^ (4 ^ 2) = 3 ^ 16 = 43046721.\n",
    "\n",
    "Beware: powers grow incredibly fast. For example, 9 ^ (9 ^ 9) has more than 369 millions of digits. lastDigit has to deal with such numbers efficiently.\n",
    "\n",
    "Corner cases: we assume that 0 ^ 0 = 1 and that lastDigit of an empty list equals to 1.\n",
    "\n",
    "This kata generalizes Last digit of a large number; you may find useful to solve it beforehand."
   ]
  },
  {
   "cell_type": "code",
   "execution_count": 1,
   "metadata": {
    "collapsed": false
   },
   "outputs": [
    {
     "name": "stdout",
     "output_type": "stream",
     "text": [
      "hello\n"
     ]
    }
   ],
   "source": [
    "test_data = [\n",
    "    ([], 1),\n",
    "    ([0, 0], 1),\n",
    "    ([0, 0, 0], 0),\n",
    "    ([1, 2], 1),\n",
    "    ([3, 4, 5], 1),\n",
    "    ([4, 3, 6], 4),\n",
    "    ([7, 6, 21], 1),\n",
    "    ([12, 30, 21], 6),\n",
    "    ([2, 2, 2, 0], 4),\n",
    "    ([937640, 767456, 981242], 0),\n",
    "    ([123232, 694022, 140249], 6),\n",
    "    ([499942, 898102, 846073], 6)\n",
    "]"
   ]
  },
  {
   "cell_type": "code",
   "execution_count": 55,
   "metadata": {
    "collapsed": false
   },
   "outputs": [
    {
     "data": {
      "text/plain": [
       "0"
      ]
     },
     "execution_count": 55,
     "metadata": {},
     "output_type": "execute_result"
    }
   ],
   "source": [
    "lst = [3,4,5]\n",
    "lst.reverse()\n",
    "reduce(lambda x,y: pow(y%4,x), lst)"
   ]
  },
  {
   "cell_type": "code",
   "execution_count": null,
   "metadata": {
    "collapsed": true
   },
   "outputs": [],
   "source": [
    "def last_digit2(a,b):\n",
    "    return 1 if b == 0 else pattern_dict[a%10][b%4]"
   ]
  },
  {
   "cell_type": "code",
   "execution_count": 34,
   "metadata": {
    "collapsed": false
   },
   "outputs": [
    {
     "name": "stdout",
     "output_type": "stream",
     "text": [
      "[5, 4, 3]\n",
      "81\n"
     ]
    },
    {
     "data": {
      "text/plain": [
       "3"
      ]
     },
     "execution_count": 34,
     "metadata": {},
     "output_type": "execute_result"
    }
   ],
   "source": [
    "last_digit2([])"
   ]
  },
  {
   "cell_type": "code",
   "execution_count": 51,
   "metadata": {
    "collapsed": false
   },
   "outputs": [],
   "source": [
    "import fractions\n",
    "\n",
    "def phi(n):\n",
    "    amount = 0        \n",
    "    for k in range(1, n + 1):\n",
    "        if fractions.gcd(n, k) == 1:\n",
    "            amount += 1\n",
    "    return amount"
   ]
  },
  {
   "cell_type": "code",
   "execution_count": 59,
   "metadata": {
    "collapsed": false
   },
   "outputs": [
    {
     "data": {
      "text/plain": [
       "4"
      ]
     },
     "execution_count": 59,
     "metadata": {},
     "output_type": "execute_result"
    }
   ],
   "source": [
    "phi(10)"
   ]
  },
  {
   "cell_type": "code",
   "execution_count": null,
   "metadata": {
    "collapsed": true
   },
   "outputs": [],
   "source": [
    "def gen_pattern_dict2():\n",
    "    pattern_dict = {}\n",
    "    for i in range(0,102):\n",
    "        pattern_dict[i] = []\n",
    "        for j in range(0,102):\n",
    "            if i**j%100 == 0 and i**j >= 100: \n",
    "                pattern_dict[i].append(100)\n",
    "            elif i**j%100 == 1 and i**j>=101:\n",
    "                pattern_dict[i].append(101)\n",
    "            else:\n",
    "                pattern_dict[i].append(i**j%100)\n",
    "    return pattern_dict\n",
    "pattern_dict2 = gen_pattern_dict2()\n",
    "\n",
    "def last_digit2(a,b):\n",
    "    if b==0:\n",
    "        return 1\n",
    "    elif a%100==0 and a>=100 and b%100==0 and b>=100:\n",
    "        return pattern_dict2[100][100]\n",
    "    elif a%100==0 and a>=100:\n",
    "        return pattern_dict2[100][b%100]\n",
    "    elif b%100==0 and b>=100:\n",
    "        return pattern_dict2[a%100][100]\n",
    "    elif b==101:\n",
    "        return pattern_dict2[a%100][101]\n",
    "    else:\n",
    "        return pattern_dict2[a%100][b%100]\n",
    "\n",
    "pattern_dict2 = gen_pattern_dict2()\n",
    "\n",
    "def last_digit(lst):\n",
    "    lst.reverse()\n",
    "    if lst == []:\n",
    "        return 1\n",
    "    else:\n",
    "        return reduce(lambda x,y: last_digit2(y,x), lst)%10"
   ]
  },
  {
   "cell_type": "code",
   "execution_count": null,
   "metadata": {
    "collapsed": true
   },
   "outputs": [],
   "source": [
    "test_data = [\n",
    "    ([], 1),\n",
    "    ([0,0], 1), \n",
    "    ([0,0,0], 0),\n",
    "    ([1,2], 1),\n",
    "    ([12,18], 4),\n",
    "    ([8,21], 8),\n",
    "    ([3,3,1], 7),\n",
    "    ([3,3,2], 3),\n",
    "    ([3,5,3], 3),\n",
    "    ([3,4,5], 1),\n",
    "    ([4,3,6], 4),\n",
    "    ([7,6,1], 9),\n",
    "    ([7,6,2], 1),\n",
    "    ([7,6,21], 1),\n",
    "    ([7,11,2], 7),\n",
    "    ([12,30,21], 6),\n",
    "    ([2,0,1], 1),\n",
    "    ([2,2,2,0], 4),\n",
    "    ([2,2,101,2], 6),\n",
    "    ([4,0], 1),\n",
    "    ([3,0,0], 3),\n",
    "    ([2,2,1], 4),\n",
    "    ([2,2,1,2], 4),\n",
    "    ([3,3,0,0], 7),\n",
    "    ([3,4,0], 3),\n",
    "    ([3,2,1,4,4], 9),\n",
    "    ([5,0], 1), \n",
    "    ([2,3,2], 2),\n",
    "    ([0,0,0,0,0,0,0], 0),\n",
    "    ([937640,767456,981242], 0),\n",
    "    ([123232,694022,140249], 6),\n",
    "    ([499942,898102,846073], 6),\n",
    "    ([2147483647,2147483647,2147483647,2147483647], 3)"
   ]
  },
  {
   "cell_type": "code",
   "execution_count": 473,
   "metadata": {
    "collapsed": true
   },
   "outputs": [],
   "source": [
    "def last_digit_ans(lst):\n",
    "    if not lst:\n",
    "        return 1\n",
    "    else:\n",
    "        out = 1\n",
    "        for n in lst[len(lst):0:-1]:\n",
    "            out = n**out\n",
    "            print(\"n=\",n)\n",
    "            print (\"out=\",out)\n",
    "            if out > 2:\n",
    "                out -= 2\n",
    "                out %= 4\n",
    "                out += 2\n",
    "                print(\"out2=\",out)\n",
    "    return lst[0]**out% 10"
   ]
  },
  {
   "cell_type": "code",
   "execution_count": 503,
   "metadata": {
    "collapsed": false
   },
   "outputs": [],
   "source": [
    "lst=[3,4,5]"
   ]
  },
  {
   "cell_type": "code",
   "execution_count": 487,
   "metadata": {
    "collapsed": true
   },
   "outputs": [],
   "source": [
    "import functools\n",
    "\n",
    "def powmod(e, b):\n",
    "    if e==0 or b==1:\n",
    "        return 1\n",
    "    if e==1 or b==0:\n",
    "        return b\n",
    "    else:\n",
    "        return pow(b, e, 20)+20\n",
    "        \n",
    "\n",
    "def last_digit_ans2(lst):\n",
    "    print lst[::-1]\n",
    "    print powmod()\n",
    "    return functools.reduce(powmod, lst[::-1], 1) % 10"
   ]
  },
  {
   "cell_type": "code",
   "execution_count": 510,
   "metadata": {
    "collapsed": false
   },
   "outputs": [
    {
     "name": "stdout",
     "output_type": "stream",
     "text": [
      "('n=', 2)\n",
      "('out=', 2)\n",
      "('n=', 101)\n",
      "('out=', 10201)\n",
      "('out2=', 5)\n",
      "('n=', 2)\n",
      "('out=', 32)\n",
      "('out2=', 4)\n"
     ]
    },
    {
     "data": {
      "text/plain": [
       "6"
      ]
     },
     "execution_count": 510,
     "metadata": {},
     "output_type": "execute_result"
    }
   ],
   "source": [
    "last_digit_ans([2,2,101,2])"
   ]
  },
  {
   "cell_type": "code",
   "execution_count": 527,
   "metadata": {
    "collapsed": true
   },
   "outputs": [],
   "source": [
    "def gen_pattern_dict3():\n",
    "    pattern_dict = {}\n",
    "    for i in range(0,11):\n",
    "        pattern_dict[i] = []\n",
    "        for j in range(0,22):\n",
    "            pattern_dict[i].append(i**j%100)\n",
    "    return pattern_dict\n",
    "pattern_dict3 = gen_pattern_dict3()"
   ]
  },
  {
   "cell_type": "code",
   "execution_count": 534,
   "metadata": {
    "collapsed": false
   },
   "outputs": [
    {
     "data": {
      "text/plain": [
       "24"
      ]
     },
     "execution_count": 534,
     "metadata": {},
     "output_type": "execute_result"
    }
   ],
   "source": [
    "pattern_dict3[12%10][10%20]"
   ]
  },
  {
   "cell_type": "code",
   "execution_count": null,
   "metadata": {
    "collapsed": true
   },
   "outputs": [],
   "source": [
    "[12, 30, 21], 6"
   ]
  },
  {
   "cell_type": "code",
   "execution_count": 541,
   "metadata": {
    "collapsed": false
   },
   "outputs": [
    {
     "data": {
      "text/plain": [
       "1267650600228229401496703205376L"
      ]
     },
     "execution_count": 541,
     "metadata": {},
     "output_type": "execute_result"
    }
   ],
   "source": [
    "2**100"
   ]
  }
 ],
 "metadata": {
  "anaconda-cloud": {},
  "kernelspec": {
   "display_name": "Python [Root]",
   "language": "python",
   "name": "Python [Root]"
  },
  "language_info": {
   "codemirror_mode": {
    "name": "ipython",
    "version": 2
   },
   "file_extension": ".py",
   "mimetype": "text/x-python",
   "name": "python",
   "nbconvert_exporter": "python",
   "pygments_lexer": "ipython2",
   "version": "2.7.12"
  }
 },
 "nbformat": 4,
 "nbformat_minor": 2
}
