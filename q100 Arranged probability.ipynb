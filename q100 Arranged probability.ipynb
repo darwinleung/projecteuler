{
 "cells": [
  {
   "cell_type": "markdown",
   "metadata": {
    "collapsed": true
   },
   "source": [
    "If a box contains twenty-one coloured discs, composed of fifteen blue discs and six red discs, and two discs were taken at random, it can be seen that the probability of taking two blue discs, P(BB) = (15/21)×(14/20) = 1/2.\n",
    "\n",
    "The next such arrangement, for which there is exactly 50% chance of taking two blue discs at random, is a box containing eighty-five blue discs and thirty-five red discs.\n",
    "\n",
    "By finding the first arrangement to contain over 1012 = 1,000,000,000,000 discs in total, determine the number of blue discs that the box would contain."
   ]
  },
  {
   "cell_type": "markdown",
   "metadata": {},
   "source": [
    "First approach: brute force with O(n^2), as expected, it is not efficient enough for big numbers"
   ]
  },
  {
   "cell_type": "code",
   "execution_count": 61,
   "metadata": {
    "collapsed": false
   },
   "outputs": [
    {
     "name": "stdout",
     "output_type": "stream",
     "text": [
      "21 15 6 0.714285714286\n",
      "120 85 35 0.708333333333\n",
      "697 493 204 0.707317073171\n",
      "4060 2871 1189 0.707142857143\n"
     ]
    }
   ],
   "source": [
    "for a in range(10,10000):\n",
    "    for b in range((a/2),(a*4/3)):\n",
    "        if (a**2.0-a)/(b**2-b) == 2:\n",
    "            print a,b,a-b,float(b)/a"
   ]
  },
  {
   "cell_type": "code",
   "execution_count": 14,
   "metadata": {
    "collapsed": false
   },
   "outputs": [
    {
     "data": {
      "text/plain": [
       "10.0"
      ]
     },
     "execution_count": 14,
     "metadata": {},
     "output_type": "execute_result"
    }
   ],
   "source": [
    "4 3\n",
    "21 15\n",
    "120 85\n",
    "697 493\n",
    "4060 2871\n",
    "23661 16731"
   ]
  },
  {
   "cell_type": "markdown",
   "metadata": {},
   "source": [
    "Second approach: brute force with O(n). I look closer to the condition, the condition can be expressed as b(b-1)/a(a-1) == 0.5, we can express this in term of b, b = 1/2 * sqrt ( 2 * a^2 - 2 * a + 1), we need to find a where b is an integer. It is still brute force since we will need to check for each a. However, it is wrong due to floating points error."
   ]
  },
  {
   "cell_type": "code",
   "execution_count": 57,
   "metadata": {
    "collapsed": false
   },
   "outputs": [],
   "source": [
    "import math\n",
    "def resultisint(n):\n",
    "    return ((math.sqrt(2*n**2 - 2*n + 1) + 1)%2.0).is_integer()"
   ]
  },
  {
   "cell_type": "code",
   "execution_count": 60,
   "metadata": {
    "collapsed": false
   },
   "outputs": [
    {
     "name": "stdout",
     "output_type": "stream",
     "text": [
      "1000000002604\n"
     ]
    }
   ],
   "source": [
    "start = 10**12\n",
    "while not resultisint(start):\n",
    "    start+=1\n",
    "print start"
   ]
  },
  {
   "cell_type": "markdown",
   "metadata": {},
   "source": [
    "Third approach: The equation can be written as:  \n",
    "a(a-1) = 2b(b-1)  \n",
    "a^2 - a = 2b^2 -2b  \n",
    "a^2 - 2b^2 - a + 2b = 0  \n",
    "\n",
    "This is a general quadratic diophantine equation with A = 1, C = -2, d = -1, e = 2, using a [online solver](https://www.alpertron.com.ar/QUAD.HTM). We can get a generating function give we have our first solution.\n",
    "\n",
    "We get  \n",
    "a_k+1 = 3 a_k + 4 b_k - 3  \n",
    "b_k+1 = 2 a_k + 3 b_k - 2"
   ]
  },
  {
   "cell_type": "code",
   "execution_count": 25,
   "metadata": {
    "collapsed": false
   },
   "outputs": [
    {
     "name": "stdout",
     "output_type": "stream",
     "text": [
      "(1070379110497L, 756872327473L)\n"
     ]
    }
   ],
   "source": [
    "a = 21\n",
    "b = 15\n",
    "while a <= 10**12:\n",
    "    new_a = 3*a + 4*b -3\n",
    "    new_b = 2*a + 3*b - 2\n",
    "    a = new_a\n",
    "    b = new_b\n",
    "print(a,b)"
   ]
  }
 ],
 "metadata": {
  "anaconda-cloud": {},
  "kernelspec": {
   "display_name": "Python [Root]",
   "language": "python",
   "name": "Python [Root]"
  },
  "language_info": {
   "codemirror_mode": {
    "name": "ipython",
    "version": 2
   },
   "file_extension": ".py",
   "mimetype": "text/x-python",
   "name": "python",
   "nbconvert_exporter": "python",
   "pygments_lexer": "ipython2",
   "version": "2.7.12"
  }
 },
 "nbformat": 4,
 "nbformat_minor": 2
}
