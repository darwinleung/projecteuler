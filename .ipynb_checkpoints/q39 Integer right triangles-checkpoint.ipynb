{
 "cells": [
  {
   "cell_type": "markdown",
   "metadata": {},
   "source": [
    "If p is the perimeter of a right angle triangle with integral length sides, {a,b,c}, there are exactly three solutions for p = 120.\n",
    "\n",
    "{20,48,52}, {24,45,51}, {30,40,50}\n",
    "\n",
    "For which value of p ≤ 1000, is the number of solutions maximised?"
   ]
  },
  {
   "cell_type": "code",
   "execution_count": 36,
   "metadata": {},
   "outputs": [],
   "source": [
    "def find_sol(y):\n",
    "    count = 0\n",
    "    for i in range(1,y):\n",
    "        for j in range(i,y):\n",
    "            if i**2 + j**2 == (y - i - j)**2:\n",
    "                    count += 1\n",
    "#                     print(i,j,k)\n",
    "    return count"
   ]
  },
  {
   "cell_type": "code",
   "execution_count": 41,
   "metadata": {},
   "outputs": [
    {
     "name": "stdout",
     "output_type": "stream",
     "text": [
      "1000 8 840\n"
     ]
    }
   ],
   "source": [
    "max = 0\n",
    "tmp = 1\n",
    "number = 1\n",
    "for i in range(500,1001):\n",
    "    tmp = find_sol(i)\n",
    "    if tmp > max:\n",
    "        max = tmp\n",
    "        number = i\n",
    "print(i,max,number)"
   ]
  },
  {
   "cell_type": "code",
   "execution_count": 42,
   "metadata": {},
   "outputs": [
    {
     "data": {
      "text/plain": [
       "8"
      ]
     },
     "execution_count": 42,
     "metadata": {},
     "output_type": "execute_result"
    }
   ],
   "source": [
    "find_sol(840)"
   ]
  }
 ],
 "metadata": {
  "kernelspec": {
   "display_name": "Python 3",
   "language": "python",
   "name": "python3"
  }
 },
 "nbformat": 4,
 "nbformat_minor": 4
}
