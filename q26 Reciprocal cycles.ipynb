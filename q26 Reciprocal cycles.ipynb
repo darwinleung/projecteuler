{
 "cells": [
  {
   "cell_type": "markdown",
   "metadata": {
    "collapsed": true
   },
   "source": [
    "A unit fraction contains 1 in the numerator. The decimal representation of the unit fractions with denominators 2 to 10 are given:\n",
    "\n",
    "1/2\t= \t0.5\n",
    "1/3\t= \t0.(3)\n",
    "1/4\t= \t0.25\n",
    "1/5\t= \t0.2\n",
    "1/6\t= \t0.1(6)\n",
    "1/7\t= \t0.(142857)\n",
    "1/8\t= \t0.125\n",
    "1/9\t= \t0.(1)\n",
    "1/10\t= \t0.1\n",
    "Where 0.1(6) means 0.166666..., and has a 1-digit recurring cycle. It can be seen that 1/7 has a 6-digit recurring cycle.\n",
    "\n",
    "Find the value of d < 1000 for which 1/d contains the longest recurring cycle in its decimal fraction part."
   ]
  },
  {
   "cell_type": "markdown",
   "metadata": {},
   "source": [
    "https://math.stackexchange.com/questions/61937/how-can-i-prove-that-all-rational-numbers-are-either-terminating-decimal-or-repe"
   ]
  },
  {
   "cell_type": "code",
   "execution_count": 10,
   "metadata": {
    "collapsed": false
   },
   "outputs": [
    {
     "data": {
      "text/plain": [
       "Decimal('0.01030927835051546391752577319587628865979381443298969072164948453608247422680412371134020618556701030927835051546391752577319587628865979381443298969072164948453608247422680412371134020618556701030927835051546391752577319587628865979381443298969072164948453608247422680412371134020618556701030927835051546391752577319587628865979381443298969072164948453608247422680412371134020618556701030927835051546391752577319587628865979381443298969072164948453608247422680412371134020618556701030927835051546391752577319587628865979381443298969072164948453608247422680412371134020618556701030927835051546391752577319587628865979381443298969072164948453608247422680412371134020618556701030927835051546391752577319587628865979381443298969072164948453608247422680412371134020618556701030927835051546391752577319587628865979381443298969072164948453608247422680412371134020618556701030927835051546391752577319587628865979381443298969072164948453608247422680412371134020618556701030927835051546391752577319587628865979')"
      ]
     },
     "execution_count": 10,
     "metadata": {},
     "output_type": "execute_result"
    }
   ],
   "source": [
    "# just to check\n",
    "from decimal import *\n",
    "getcontext().prec = 1000\n",
    "Decimal(1)/Decimal(97)"
   ]
  },
  {
   "cell_type": "code",
   "execution_count": 113,
   "metadata": {
    "collapsed": false
   },
   "outputs": [],
   "source": [
    "# find recurring decimal cycle using long division\n",
    "def findrd(a,b):\n",
    "    lst=[]\n",
    "    while a%float(b) != 0 and a*10.0%b not in lst:\n",
    "        a=a*10.0%b\n",
    "        lst.append(a)\n",
    "    return len(lst)"
   ]
  },
  {
   "cell_type": "code",
   "execution_count": 117,
   "metadata": {
    "collapsed": false
   },
   "outputs": [
    {
     "name": "stdout",
     "output_type": "stream",
     "text": [
      "983 982\n"
     ]
    }
   ],
   "source": [
    "max = 0\n",
    "d = 1\n",
    "for i in range(1,1000):\n",
    "    if findrd(1,i)> max:\n",
    "        max = findrd(1,i)\n",
    "        d = i\n",
    "print d, findrd(1,d)"
   ]
  }
 ],
 "metadata": {
  "kernelspec": {
   "display_name": "Python [Root]",
   "language": "python",
   "name": "Python [Root]"
  },
  "language_info": {
   "codemirror_mode": {
    "name": "ipython",
    "version": 2
   },
   "file_extension": ".py",
   "mimetype": "text/x-python",
   "name": "python",
   "nbconvert_exporter": "python",
   "pygments_lexer": "ipython2",
   "version": "2.7.12"
  }
 },
 "nbformat": 4,
 "nbformat_minor": 2
}
