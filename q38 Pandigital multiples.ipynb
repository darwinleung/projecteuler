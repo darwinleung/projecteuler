{
 "cells": [
  {
   "cell_type": "markdown",
   "metadata": {},
   "source": [
    "Take the number 192 and multiply it by each of 1, 2, and 3:\n",
    "\n",
    "192 × 1 = 192\n",
    "192 × 2 = 384\n",
    "192 × 3 = 576\n",
    "By concatenating each product we get the 1 to 9 pandigital, 192384576. We will call 192384576 the concatenated product of 192 and (1,2,3)\n",
    "\n",
    "The same can be achieved by starting with 9 and multiplying by 1, 2, 3, 4, and 5, giving the pandigital, 918273645, which is the concatenated product of 9 and (1,2,3,4,5).\n",
    "\n",
    "What is the largest 1 to 9 pandigital 9-digit number that can be formed as the concatenated product of an integer with (1,2, ... , n) where n > 1?"
   ]
  },
  {
   "cell_type": "code",
   "execution_count": 25,
   "metadata": {},
   "outputs": [],
   "source": [
    "def concatprod(n,m):\n",
    "    result = \"\"\n",
    "    for i in list(range(1,m+1)):\n",
    "        result+=str(i*n)\n",
    "    return int(result)\n",
    "def is_nine(k):\n",
    "    return sorted(str(k))==['1','2','3','4','5','6','7','8','9']"
   ]
  },
  {
   "cell_type": "code",
   "execution_count": 26,
   "metadata": {},
   "outputs": [
    {
     "data": {
      "text/plain": [
       "True"
      ]
     },
     "execution_count": 26,
     "metadata": {},
     "output_type": "execute_result"
    }
   ],
   "source": [
    "is_nine(concatprod(9,5))"
   ]
  },
  {
   "cell_type": "code",
   "execution_count": 32,
   "metadata": {},
   "outputs": [
    {
     "name": "stdout",
     "output_type": "stream",
     "text": [
      "1 9 123456789\n",
      "9 5 918273645\n",
      "192 3 192384576\n",
      "219 3 219438657\n",
      "273 3 273546819\n",
      "327 3 327654981\n",
      "6729 2 672913458\n",
      "6792 2 679213584\n",
      "6927 2 692713854\n",
      "7269 2 726914538\n",
      "7293 2 729314586\n",
      "7329 2 732914658\n",
      "7692 2 769215384\n",
      "7923 2 792315846\n",
      "7932 2 793215864\n",
      "9267 2 926718534\n",
      "9273 2 927318546\n",
      "9327 2 932718654\n"
     ]
    }
   ],
   "source": [
    "for i in range(1,1000000):\n",
    "    for j in range(1,10):\n",
    "        if is_nine(concatprod(i,j)):\n",
    "            print(i,j,concatprod(i,j))"
   ]
  }
 ],
 "metadata": {
  "kernelspec": {
   "display_name": "Python 3",
   "language": "python",
   "name": "python3"
  },
  "language_info": {
   "codemirror_mode": {
    "name": "ipython",
    "version": 3
   },
   "file_extension": ".py",
   "mimetype": "text/x-python",
   "name": "python",
   "nbconvert_exporter": "python",
   "pygments_lexer": "ipython3",
   "version": "3.6.10"
  }
 },
 "nbformat": 4,
 "nbformat_minor": 4
}
